{
 "cells": [
  {
   "cell_type": "code",
   "execution_count": 1,
   "metadata": {},
   "outputs": [
    {
     "name": "stdout",
     "output_type": "stream",
     "text": [
      "     Unnamed: 0          상품번호  랭킹                                상품명  \\\n",
      "0             1  6.660420e+09   1  당일도축 대구뭉티기 육사시미 한우 육회 생고기 뭉텅이 뭉태기   \n",
      "1             2  6.660420e+09   1  당일도축 대구뭉티기 육사시미 한우 육회 생고기 뭉텅이 뭉태기   \n",
      "2             3  6.660420e+09   1  당일도축 대구뭉티기 육사시미 한우 육회 생고기 뭉텅이 뭉태기   \n",
      "3             4  6.660420e+09   1  당일도축 대구뭉티기 육사시미 한우 육회 생고기 뭉텅이 뭉태기   \n",
      "4             5  6.660420e+09   1  당일도축 대구뭉티기 육사시미 한우 육회 생고기 뭉텅이 뭉태기   \n",
      "..          ...           ...  ..                                ...   \n",
      "206         207  6.943181e+09  74          대구 뭉티기 소고기 국거리 초기이유식 육회고기   \n",
      "207         208  6.943181e+09  74          대구 뭉티기 소고기 국거리 초기이유식 육회고기   \n",
      "208         209           NaN  76                대구 뭉티기 우둔살 250g 덩어리   \n",
      "209         210           NaN  78                    1등급 한우 뭉티기 200g   \n",
      "210         211           NaN  80            (대정한우) 냉장 한우 뭉티기 200g[]   \n",
      "\n",
      "                               옵션     가격    리뷰  구매건수  찜하기  스마트스토어    쇼핑몰  \\\n",
      "0                     당일도축 육회200g  11900  28.0  65.0   34       1  전라도청년   \n",
      "1           당일도축 육회400g (+10000원)  21900  28.0  65.0   34       1  전라도청년   \n",
      "2           당일도축 육회600g (+20000원)  31900  28.0  65.0   34       1  전라도청년   \n",
      "3     당일도축 육사시미(뭉티기)200g (+1000원)  12900  28.0  65.0   34       1  전라도청년   \n",
      "4    당일도축 육사시미(뭉티기)400g (+11000원)  22900  28.0  65.0   34       1  전라도청년   \n",
      "..                            ...    ...   ...   ...  ...     ...    ...   \n",
      "206        한우육회 우둔살 300g (+7000원)  29800   2.0   2.0    1       1  워커하이브   \n",
      "207       한우육회 우둔살 600g (+19200원)  42000   2.0   2.0    1       1  워커하이브   \n",
      "208                            없음  19280  25.0   NaN    0       0   11번가   \n",
      "209                            없음  15900  23.0   NaN    0       0  전국농부들   \n",
      "210                            없음  12250  18.0   NaN    1       0  우체국쇼핑   \n",
      "\n",
      "      배송비               용도          부위                중량   등급  \\\n",
      "0    3000              육회용          우둔              200g  NaN   \n",
      "1    3000              육회용          우둔              200g  NaN   \n",
      "2    3000              육회용          우둔              200g  NaN   \n",
      "3    3000              육회용          우둔              200g  NaN   \n",
      "4    3000              육회용          우둔              200g  NaN   \n",
      "..    ...              ...         ...               ...  ...   \n",
      "206     0  국거리용, 육회용, 불고기용  우둔, 설도, 기타  국거리300g+다짐육300gg  1등급   \n",
      "207     0  국거리용, 육회용, 불고기용  우둔, 설도, 기타  국거리300g+다짐육300gg  1등급   \n",
      "208  4000              NaN         NaN               NaN  NaN   \n",
      "209  4000              NaN         NaN               NaN  NaN   \n",
      "210  3000              NaN         NaN               NaN  NaN   \n",
      "\n",
      "                                                    링크  \n",
      "0    https://cr.shopping.naver.com/adcr.nhn?x=AQ9l2...  \n",
      "1    https://cr.shopping.naver.com/adcr.nhn?x=AQ9l2...  \n",
      "2    https://cr.shopping.naver.com/adcr.nhn?x=AQ9l2...  \n",
      "3    https://cr.shopping.naver.com/adcr.nhn?x=AQ9l2...  \n",
      "4    https://cr.shopping.naver.com/adcr.nhn?x=AQ9l2...  \n",
      "..                                                 ...  \n",
      "206  https://cr.shopping.naver.com/adcr.nhn?x=yJN97...  \n",
      "207  https://cr.shopping.naver.com/adcr.nhn?x=yJN97...  \n",
      "208  https://cr.shopping.naver.com/adcr.nhn?x=dGVdm...  \n",
      "209  https://cr.shopping.naver.com/adcr.nhn?x=vmHSr...  \n",
      "210  https://cr.shopping.naver.com/adcr.nhn?x=RA%2B...  \n",
      "\n",
      "[211 rows x 17 columns]\n"
     ]
    },
    {
     "data": {
      "text/html": [
       "<div>\n",
       "<style scoped>\n",
       "    .dataframe tbody tr th:only-of-type {\n",
       "        vertical-align: middle;\n",
       "    }\n",
       "\n",
       "    .dataframe tbody tr th {\n",
       "        vertical-align: top;\n",
       "    }\n",
       "\n",
       "    .dataframe thead th {\n",
       "        text-align: right;\n",
       "    }\n",
       "</style>\n",
       "<table border=\"1\" class=\"dataframe\">\n",
       "  <thead>\n",
       "    <tr style=\"text-align: right;\">\n",
       "      <th></th>\n",
       "      <th>Unnamed: 0</th>\n",
       "      <th>상품번호</th>\n",
       "      <th>랭킹</th>\n",
       "      <th>가격</th>\n",
       "      <th>리뷰</th>\n",
       "      <th>구매건수</th>\n",
       "      <th>찜하기</th>\n",
       "      <th>스마트스토어</th>\n",
       "      <th>배송비</th>\n",
       "    </tr>\n",
       "  </thead>\n",
       "  <tbody>\n",
       "    <tr>\n",
       "      <th>count</th>\n",
       "      <td>211.00000</td>\n",
       "      <td>1.910000e+02</td>\n",
       "      <td>211.000000</td>\n",
       "      <td>211.000000</td>\n",
       "      <td>206.000000</td>\n",
       "      <td>184.000000</td>\n",
       "      <td>211.000000</td>\n",
       "      <td>211.000000</td>\n",
       "      <td>211.000000</td>\n",
       "    </tr>\n",
       "    <tr>\n",
       "      <th>mean</th>\n",
       "      <td>106.00000</td>\n",
       "      <td>5.585390e+09</td>\n",
       "      <td>28.431280</td>\n",
       "      <td>28461.753555</td>\n",
       "      <td>694.932039</td>\n",
       "      <td>503.467391</td>\n",
       "      <td>204.682464</td>\n",
       "      <td>0.905213</td>\n",
       "      <td>3239.336493</td>\n",
       "    </tr>\n",
       "    <tr>\n",
       "      <th>std</th>\n",
       "      <td>61.05462</td>\n",
       "      <td>6.164387e+08</td>\n",
       "      <td>20.709528</td>\n",
       "      <td>25720.604660</td>\n",
       "      <td>1540.940396</td>\n",
       "      <td>877.821695</td>\n",
       "      <td>328.287474</td>\n",
       "      <td>0.293617</td>\n",
       "      <td>1203.493936</td>\n",
       "    </tr>\n",
       "    <tr>\n",
       "      <th>min</th>\n",
       "      <td>1.00000</td>\n",
       "      <td>4.762994e+09</td>\n",
       "      <td>1.000000</td>\n",
       "      <td>8500.000000</td>\n",
       "      <td>1.000000</td>\n",
       "      <td>1.000000</td>\n",
       "      <td>0.000000</td>\n",
       "      <td>0.000000</td>\n",
       "      <td>0.000000</td>\n",
       "    </tr>\n",
       "    <tr>\n",
       "      <th>25%</th>\n",
       "      <td>53.50000</td>\n",
       "      <td>5.171622e+09</td>\n",
       "      <td>10.000000</td>\n",
       "      <td>19500.000000</td>\n",
       "      <td>25.250000</td>\n",
       "      <td>40.750000</td>\n",
       "      <td>12.000000</td>\n",
       "      <td>1.000000</td>\n",
       "      <td>3000.000000</td>\n",
       "    </tr>\n",
       "    <tr>\n",
       "      <th>50%</th>\n",
       "      <td>106.00000</td>\n",
       "      <td>5.305004e+09</td>\n",
       "      <td>25.000000</td>\n",
       "      <td>23400.000000</td>\n",
       "      <td>111.000000</td>\n",
       "      <td>70.000000</td>\n",
       "      <td>37.000000</td>\n",
       "      <td>1.000000</td>\n",
       "      <td>3500.000000</td>\n",
       "    </tr>\n",
       "    <tr>\n",
       "      <th>75%</th>\n",
       "      <td>158.50000</td>\n",
       "      <td>6.039069e+09</td>\n",
       "      <td>46.000000</td>\n",
       "      <td>34450.000000</td>\n",
       "      <td>813.500000</td>\n",
       "      <td>638.000000</td>\n",
       "      <td>303.000000</td>\n",
       "      <td>1.000000</td>\n",
       "      <td>4000.000000</td>\n",
       "    </tr>\n",
       "    <tr>\n",
       "      <th>max</th>\n",
       "      <td>211.00000</td>\n",
       "      <td>6.989547e+09</td>\n",
       "      <td>80.000000</td>\n",
       "      <td>288000.000000</td>\n",
       "      <td>7740.000000</td>\n",
       "      <td>4030.000000</td>\n",
       "      <td>1527.000000</td>\n",
       "      <td>1.000000</td>\n",
       "      <td>4000.000000</td>\n",
       "    </tr>\n",
       "  </tbody>\n",
       "</table>\n",
       "</div>"
      ],
      "text/plain": [
       "       Unnamed: 0          상품번호          랭킹             가격           리뷰  \\\n",
       "count   211.00000  1.910000e+02  211.000000     211.000000   206.000000   \n",
       "mean    106.00000  5.585390e+09   28.431280   28461.753555   694.932039   \n",
       "std      61.05462  6.164387e+08   20.709528   25720.604660  1540.940396   \n",
       "min       1.00000  4.762994e+09    1.000000    8500.000000     1.000000   \n",
       "25%      53.50000  5.171622e+09   10.000000   19500.000000    25.250000   \n",
       "50%     106.00000  5.305004e+09   25.000000   23400.000000   111.000000   \n",
       "75%     158.50000  6.039069e+09   46.000000   34450.000000   813.500000   \n",
       "max     211.00000  6.989547e+09   80.000000  288000.000000  7740.000000   \n",
       "\n",
       "              구매건수          찜하기      스마트스토어          배송비  \n",
       "count   184.000000   211.000000  211.000000   211.000000  \n",
       "mean    503.467391   204.682464    0.905213  3239.336493  \n",
       "std     877.821695   328.287474    0.293617  1203.493936  \n",
       "min       1.000000     0.000000    0.000000     0.000000  \n",
       "25%      40.750000    12.000000    1.000000  3000.000000  \n",
       "50%      70.000000    37.000000    1.000000  3500.000000  \n",
       "75%     638.000000   303.000000    1.000000  4000.000000  \n",
       "max    4030.000000  1527.000000    1.000000  4000.000000  "
      ]
     },
     "execution_count": 1,
     "metadata": {},
     "output_type": "execute_result"
    }
   ],
   "source": [
    "import pandas as pd\n",
    "import numpy as np\n",
    "import math\n",
    "df = pd.read_csv('./뭉티기test1.csv',encoding = 'utf-8-sig')\n",
    "print(df)\n",
    "df.describe()"
   ]
  },
  {
   "cell_type": "code",
   "execution_count": 2,
   "metadata": {},
   "outputs": [],
   "source": [
    "# 열 정리\n",
    "df = df.drop(['Unnamed: 0','용도','부위','등급'], axis=1)"
   ]
  },
  {
   "cell_type": "code",
   "execution_count": 3,
   "metadata": {},
   "outputs": [],
   "source": [
    "total  = df['랭킹'].nunique()"
   ]
  },
  {
   "cell_type": "code",
   "execution_count": 4,
   "metadata": {},
   "outputs": [
    {
     "data": {
      "text/plain": [
       "array(['200g', '250g', '300g', '300~600g', nan, '150g', '600g',\n",
       "       '120g, 240g', '120~240g', '120g', '300gg', '250,600g', '500g',\n",
       "       '국거리300g+다짐육300gg'], dtype=object)"
      ]
     },
     "execution_count": 4,
     "metadata": {},
     "output_type": "execute_result"
    }
   ],
   "source": [
    "df['중량'].unique()"
   ]
  },
  {
   "cell_type": "markdown",
   "metadata": {},
   "source": [
    "### 중량처리\n",
    "아이디어\n",
    "1. 중량 g 떼기 및 표준 형식 ***g 아닌 값 0으로 설정\n",
    "2. 옵션에 g을 찾아 중량 입력, 수정\n",
    "3. 없다면 상품명에서 g을 찾아 중량 입력 \n",
    "// kg은 사전에 제외함"
   ]
  },
  {
   "cell_type": "code",
   "execution_count": 5,
   "metadata": {},
   "outputs": [
    {
     "name": "stdout",
     "output_type": "stream",
     "text": [
      "0      200\n",
      "1      200\n",
      "2      200\n",
      "3      200\n",
      "4      200\n",
      "      ... \n",
      "206      0\n",
      "207      0\n",
      "208      0\n",
      "209      0\n",
      "210      0\n",
      "Name: 중량, Length: 211, dtype: int64\n"
     ]
    }
   ],
   "source": [
    "# 결측치 처리\n",
    "df['중량'] = df['중량'].replace(np.nan,0)\n",
    "\n",
    "# 중량 열 type 맞추기\n",
    "def weight_setting(x):\n",
    "    if type(x) == int:\n",
    "        return x\n",
    "    elif len(x) >4:\n",
    "        return 0\n",
    "    else:\n",
    "        return int(x[0:-1])\n",
    "\n",
    "df['중량'] = df['중량'].map(lambda x: weight_setting(x))\n",
    "print(df['중량'])"
   ]
  },
  {
   "cell_type": "code",
   "execution_count": 6,
   "metadata": {},
   "outputs": [
    {
     "ename": "ValueError",
     "evalue": "invalid literal for int() with base 10: '.5k'",
     "output_type": "error",
     "traceback": [
      "\u001b[1;31m---------------------------------------------------------------------------\u001b[0m",
      "\u001b[1;31mValueError\u001b[0m                                Traceback (most recent call last)",
      "\u001b[1;32mc:\\Users\\ys050\\Dropbox\\내 PC (LAPTOP-60DNJ58Q)\\Desktop\\문서\\대학생활\\자습\\crawling\\결과도출.ipynb 셀 7\u001b[0m in \u001b[0;36m<cell line: 3>\u001b[1;34m()\u001b[0m\n\u001b[0;32m     <a href='vscode-notebook-cell:/c%3A/Users/ys050/Dropbox/%EB%82%B4%20PC%20%28LAPTOP-60DNJ58Q%29/Desktop/%EB%AC%B8%EC%84%9C/%EB%8C%80%ED%95%99%EC%83%9D%ED%99%9C/%EC%9E%90%EC%8A%B5/crawling/%EA%B2%B0%EA%B3%BC%EB%8F%84%EC%B6%9C.ipynb#X20sZmlsZQ%3D%3D?line=14'>15</a>\u001b[0m             \u001b[39mbreak\u001b[39;00m\n\u001b[0;32m     <a href='vscode-notebook-cell:/c%3A/Users/ys050/Dropbox/%EB%82%B4%20PC%20%28LAPTOP-60DNJ58Q%29/Desktop/%EB%AC%B8%EC%84%9C/%EB%8C%80%ED%95%99%EC%83%9D%ED%99%9C/%EC%9E%90%EC%8A%B5/crawling/%EA%B2%B0%EA%B3%BC%EB%8F%84%EC%B6%9C.ipynb#X20sZmlsZQ%3D%3D?line=15'>16</a>\u001b[0m         \u001b[39melse\u001b[39;00m:\n\u001b[1;32m---> <a href='vscode-notebook-cell:/c%3A/Users/ys050/Dropbox/%EB%82%B4%20PC%20%28LAPTOP-60DNJ58Q%29/Desktop/%EB%AC%B8%EC%84%9C/%EB%8C%80%ED%95%99%EC%83%9D%ED%99%9C/%EC%9E%90%EC%8A%B5/crawling/%EA%B2%B0%EA%B3%BC%EB%8F%84%EC%B6%9C.ipynb#X20sZmlsZQ%3D%3D?line=16'>17</a>\u001b[0m             new \u001b[39m+\u001b[39m\u001b[39m=\u001b[39m \u001b[39mint\u001b[39;49m(option[index\u001b[39m-\u001b[39;49m\u001b[39m3\u001b[39;49m:index])\n\u001b[0;32m     <a href='vscode-notebook-cell:/c%3A/Users/ys050/Dropbox/%EB%82%B4%20PC%20%28LAPTOP-60DNJ58Q%29/Desktop/%EB%AC%B8%EC%84%9C/%EB%8C%80%ED%95%99%EC%83%9D%ED%99%9C/%EC%9E%90%EC%8A%B5/crawling/%EA%B2%B0%EA%B3%BC%EB%8F%84%EC%B6%9C.ipynb#X20sZmlsZQ%3D%3D?line=17'>18</a>\u001b[0m \u001b[39m# 옵션에 g가 없을 경우 상품명에서 찾아본다\u001b[39;00m\n\u001b[0;32m     <a href='vscode-notebook-cell:/c%3A/Users/ys050/Dropbox/%EB%82%B4%20PC%20%28LAPTOP-60DNJ58Q%29/Desktop/%EB%AC%B8%EC%84%9C/%EB%8C%80%ED%95%99%EC%83%9D%ED%99%9C/%EC%9E%90%EC%8A%B5/crawling/%EA%B2%B0%EA%B3%BC%EB%8F%84%EC%B6%9C.ipynb#X20sZmlsZQ%3D%3D?line=18'>19</a>\u001b[0m \u001b[39melif\u001b[39;00m \u001b[39m'\u001b[39m\u001b[39mg\u001b[39m\u001b[39m'\u001b[39m \u001b[39min\u001b[39;00m product_name:\n",
      "\u001b[1;31mValueError\u001b[0m: invalid literal for int() with base 10: '.5k'"
     ]
    }
   ],
   "source": [
    "# 중량처리\n",
    "\n",
    "for i in df.index: # 행 반복\n",
    "    new = 0 \n",
    "    option = str(df['옵션'][i])\n",
    "    product_name = str(df['상품명'][i])\n",
    "    # 옵션에 g이 있을 경우\n",
    "    if 'g' in option:\n",
    "        if 'kg' not in option:\n",
    "            index = -1\n",
    "            while True:\n",
    "                index = option.find('g', index + 1)\n",
    "                if index == -1:\n",
    "                    break\n",
    "                else:\n",
    "                    new += int(option[index-3:index])\n",
    "    # 옵션에 g가 없을 경우 상품명에서 찾아본다\n",
    "    elif 'g' in product_name:\n",
    "        index = product_name.find('g')\n",
    "        new = product_name[index-3:index]\n",
    "    else:\n",
    "        pass\n",
    "\n",
    "    if new == int(df['중량'][i]):\n",
    "        pass\n",
    "    else:\n",
    "        df.loc[i,'중량'] = new\n",
    "\n",
    "print(df.head(15))"
   ]
  },
  {
   "cell_type": "code",
   "execution_count": 4,
   "metadata": {},
   "outputs": [
    {
     "name": "stdout",
     "output_type": "stream",
     "text": [
      "0      200\n",
      "1      220\n",
      "2      220\n",
      "3      300\n",
      "4      600\n",
      "      ... \n",
      "159    300\n",
      "160    300\n",
      "161    300\n",
      "162    500\n",
      "163    300\n",
      "Name: 중량, Length: 164, dtype: int64\n"
     ]
    }
   ],
   "source": [
    "# 중량 100g당 가격\n",
    "df['중량'] = df['중량'].map(lambda x: int(x[:-1]))\n",
    "print(df['중량'])"
   ]
  },
  {
   "cell_type": "code",
   "execution_count": 5,
   "metadata": {},
   "outputs": [
    {
     "name": "stdout",
     "output_type": "stream",
     "text": [
      "0      12450\n",
      "1       5864\n",
      "2       5864\n",
      "3       6000\n",
      "4       6000\n",
      "       ...  \n",
      "159     6967\n",
      "160     6634\n",
      "161     6967\n",
      "162     6180\n",
      "163     6000\n",
      "Name: 100g당_가격, Length: 164, dtype: int64\n"
     ]
    }
   ],
   "source": [
    "df['100g당_가격'] = 0\n",
    "df['100g당_가격'] =  (df['가격'] / df['중량']) * 100\n",
    "df['100g당_가격'] = df['100g당_가격'].map(lambda x : math.ceil(x))\n",
    "print(df['100g당_가격'])"
   ]
  },
  {
   "cell_type": "code",
   "execution_count": 6,
   "metadata": {},
   "outputs": [
    {
     "data": {
      "text/plain": [
       "count       57.000000\n",
       "mean      8794.649123\n",
       "std       2337.449598\n",
       "min       4360.000000\n",
       "25%       7050.000000\n",
       "50%       8400.000000\n",
       "75%      10000.000000\n",
       "max      14450.000000\n",
       "Name: 100g당_가격, dtype: float64"
      ]
     },
     "execution_count": 6,
     "metadata": {},
     "output_type": "execute_result"
    }
   ],
   "source": [
    "# 300g 미만인 상품의 100g당 가격 분석\n",
    "\n",
    "df[df['중량'] <300]['100g당_가격'].describe()"
   ]
  },
  {
   "cell_type": "code",
   "execution_count": 7,
   "metadata": {},
   "outputs": [],
   "source": [
    "df.index +=1\n",
    "df.reset_index(inplace=True)\n",
    "df.rename(columns={'index':'key'},inplace=True)"
   ]
  },
  {
   "cell_type": "code",
   "execution_count": 8,
   "metadata": {},
   "outputs": [
    {
     "name": "stdout",
     "output_type": "stream",
     "text": [
      "0      24900\n",
      "1      16400\n",
      "2      16400\n",
      "3      21000\n",
      "4      39000\n",
      "       ...  \n",
      "159    24400\n",
      "160    23400\n",
      "161    23900\n",
      "162    33900\n",
      "163    22000\n",
      "Name: 배송비포함_가격, Length: 164, dtype: int64\n"
     ]
    }
   ],
   "source": [
    "df['배송비포함_가격'] = 0\n",
    "df['배송비포함_가격'] =  (df['가격'] + df['배송비'])\n",
    "print(df['배송비포함_가격'])\n"
   ]
  },
  {
   "cell_type": "code",
   "execution_count": 9,
   "metadata": {},
   "outputs": [
    {
     "name": "stdout",
     "output_type": "stream",
     "text": [
      "0      12450\n",
      "1       7455\n",
      "2       7455\n",
      "3       7000\n",
      "4       6500\n",
      "       ...  \n",
      "159     8134\n",
      "160     7800\n",
      "161     7967\n",
      "162     6780\n",
      "163     7334\n",
      "Name: 100g당_배송비포함_가격, Length: 164, dtype: int64\n"
     ]
    }
   ],
   "source": [
    "df['100g당_배송비포함_가격'] = 0\n",
    "df['100g당_배송비포함_가격'] =  (df['배송비포함_가격'] / df['중량']) * 100\n",
    "df['100g당_배송비포함_가격'] = df['100g당_배송비포함_가격'].map(lambda x : math.ceil(x))\n",
    "print(df['100g당_배송비포함_가격'])"
   ]
  },
  {
   "cell_type": "code",
   "execution_count": 10,
   "metadata": {},
   "outputs": [],
   "source": [
    "df.to_csv('./육회정리3.csv',encoding='utf-8-sig')  "
   ]
  },
  {
   "cell_type": "code",
   "execution_count": 12,
   "metadata": {},
   "outputs": [
    {
     "name": "stdout",
     "output_type": "stream",
     "text": [
      "56\n"
     ]
    }
   ],
   "source": [
    "print(total)"
   ]
  }
 ],
 "metadata": {
  "kernelspec": {
   "display_name": "Python 3.10.2 64-bit",
   "language": "python",
   "name": "python3"
  },
  "language_info": {
   "codemirror_mode": {
    "name": "ipython",
    "version": 3
   },
   "file_extension": ".py",
   "mimetype": "text/x-python",
   "name": "python",
   "nbconvert_exporter": "python",
   "pygments_lexer": "ipython3",
   "version": "3.10.2"
  },
  "orig_nbformat": 4,
  "vscode": {
   "interpreter": {
    "hash": "9e000c0c807c08f87b67fc6d14b7494c203ab463a6abf9db2311fb6e02a8ff8c"
   }
  }
 },
 "nbformat": 4,
 "nbformat_minor": 2
}
