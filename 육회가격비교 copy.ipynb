{
 "cells": [
  {
   "cell_type": "code",
   "execution_count": 1,
   "metadata": {},
   "outputs": [],
   "source": [
    "import time\n",
    "import math\n",
    "import pandas as pd\n",
    "from selenium import webdriver\n",
    "from selenium.webdriver.common.by import By\n",
    "from selenium.webdriver.chrome.service import Service\n",
    "from selenium.webdriver.chrome.options import Options\n",
    "from webdriver_manager.chrome import ChromeDriverManager\n",
    "from selenium.common.exceptions import NoSuchElementException\n",
    "from selenium.webdriver.common.keys import Keys\n",
    "\n",
    "# 크롬드라이버 열기\n",
    "def chromeWebdriver():\n",
    "    chrome_service = Service(executable_path=ChromeDriverManager().install())\n",
    "    options =Options()\n",
    "    options.add_experimental_option('detach',True)\n",
    "    options.add_experimental_option('excludeSwitches', ['enable-logging'])\n",
    "\n",
    "    driver = webdriver.Chrome(service=chrome_service,options=options)\n",
    "    return driver\n",
    "\n",
    "# 문자열 정리 함수\n",
    "def cleaner(string):\n",
    "    temp = string.replace('\\n', '')\n",
    "    temp = temp.replace('\\r', '')\n",
    "    temp = temp.replace('\\t', '')\n",
    "    return temp\n",
    "\n",
    "JUMP = 2                                                                                            # sleep 시간 "
   ]
  },
  {
   "cell_type": "code",
   "execution_count": 2,
   "metadata": {},
   "outputs": [
    {
     "name": "stdout",
     "output_type": "stream",
     "text": [
      "\n"
     ]
    }
   ],
   "source": [
    "# 키워드 입력받기\n",
    "#keyword = input('키워드를 입력하세요:')\n",
    "keyword = '뭉티기'\n",
    "\n",
    "# 수집 개수 입력받기\n",
    "goal = 10\n",
    "# 웹사이트 열기\n",
    "browser = chromeWebdriver()\n",
    "browser.get('https://shopping.naver.com/home/p/index.naver')                                            # 네이버 쇼핑 페이지\n",
    "browser.implicitly_wait(5)                                                                              # 로딩이 끝날 때까지 10초까지는 기다려줌\n",
    "\n",
    "#검색창 클릭\n",
    "search = browser.find_element(By.CSS_SELECTOR,'input._searchInput_search_input_QXUFf')\n",
    "search.click()\n",
    "\n",
    "#검색어 입력\n",
    "search.send_keys(keyword)\n",
    "search.send_keys(Keys.ENTER)"
   ]
  },
  {
   "cell_type": "code",
   "execution_count": 3,
   "metadata": {},
   "outputs": [],
   "source": [
    "eighty_btn = browser.find_elements(By.CSS_SELECTOR, 'a.subFilter_btn_select__K6F79')[1]\n",
    "browser.execute_script(\"arguments[0].click();\",eighty_btn)\n",
    "\n",
    "eighty_btn2 = browser.find_element(By.CSS_SELECTOR, '#__next > div > div.style_container__1YjHN > div.style_inner__18zZX > div.style_content_wrap__1PzEo > div.style_content__2T20F > div.seller_filter_area > div > div.subFilter_sort_choice__1SFXG > div:nth-child(3) > ul > li:nth-child(4) > a')\n",
    "browser.execute_script(\"arguments[0].click();\",eighty_btn2)"
   ]
  },
  {
   "cell_type": "code",
   "execution_count": 4,
   "metadata": {},
   "outputs": [],
   "source": [
    "total_num = int(browser.find_element(By.CSS_SELECTOR, 'span.subFilter_num__2x0jq').text)\n",
    "total_page = math.ceil(total_num /80 *10)"
   ]
  },
  {
   "cell_type": "code",
   "execution_count": 5,
   "metadata": {},
   "outputs": [],
   "source": [
    "dic_list =[]\n",
    "rank = 1 "
   ]
  },
  {
   "cell_type": "code",
   "execution_count": 6,
   "metadata": {},
   "outputs": [],
   "source": [
    "def scroll():\n",
    "    before_h = browser.execute_script(\"return window.scrollY\")                  # 0으로 초기화하기\n",
    "\n",
    "    #무한 스크롤\n",
    "    while True:\n",
    "        # 맨 아래로 스크롤을 내린다\n",
    "        browser.find_element(By.CSS_SELECTOR, 'body').send_keys(Keys.END)\n",
    "\n",
    "        #스크롤 사이 페이지 로딩 시간\n",
    "        time.sleep(1)\n",
    "\n",
    "        #스크롤 후 높이\n",
    "        after_h = browser.execute_script('return window.scrollY')\n",
    "\n",
    "        if after_h == before_h:\n",
    "            break\n",
    "        before_h = after_h"
   ]
  },
  {
   "cell_type": "code",
   "execution_count": 7,
   "metadata": {},
   "outputs": [
    {
     "name": "stdout",
     "output_type": "stream",
     "text": [
      "3,500원\n"
     ]
    }
   ],
   "source": [
    "boxes = browser.find_elements(By.CSS_SELECTOR,'li.basicList_item__2XT81')\n",
    "box = boxes[0]\n",
    "bbox = box.find_elements(By.CSS_SELECTOR,'em.basicList_option__3eF2s')[0].text\n",
    "print(bbox.split()[1])\n"
   ]
  },
  {
   "cell_type": "code",
   "execution_count": 8,
   "metadata": {},
   "outputs": [
    {
     "name": "stdout",
     "output_type": "stream",
     "text": [
      "26200\n"
     ]
    }
   ],
   "source": [
    "type(box.get_attribute('class'))\n",
    "print(int(box.find_element(By.CSS_SELECTOR,'span.price_num__2WUXn').text[:-1].replace(',','')))"
   ]
  },
  {
   "cell_type": "code",
   "execution_count": 9,
   "metadata": {},
   "outputs": [],
   "source": [
    "#def detail_process(info):\n",
    "    \n",
    "    "
   ]
  },
  {
   "cell_type": "code",
   "execution_count": 10,
   "metadata": {},
   "outputs": [],
   "source": [
    "# browser.execute_script('window.open(\\''+'https://smartstore.naver.com/ouostorystart1/products/5086860129?NaPm=ct%3Dl6j4a208%7Cci%3Df9f4243431edfb5f3ebe943187b02eaeabb3cf1d%7Ctr%3Dslsl%7Csn%3D1204420%7Chk%3D8fcc9e0875d68682f43a51b29757d9237645c162'+'\\');')\n",
    "# time.sleep(1)\n",
    "# browser.switch_to.window(window_name= browser.window_handles[-1])\n",
    "\n",
    "# product_box = browser.find_elements(By.CSS_SELECTOR,'table._1_UiXWHt__')[1]\n",
    "# product_info = product_box.text\n",
    "# if '용도' or '부위' or '중량' or '등급' in product_info:\n",
    "#     tag_list = list(map(lambda x: x.text ,product_box.find_elements(By.CLASS_NAME,'_1iuv6pLHMD')))\n",
    "#     info_list = list(map(lambda x: x.text ,product_box.find_elements(By.CLASS_NAME,'ABROiEshTD')))\n",
    "#     print(tag_list,info_list)\n",
    "#     for i in len(tag_list):\n",
    "#         data_dic[rank][i] = info_list[i] \n",
    "\n",
    "# browser.close()\n",
    "# time.sleep(1)\n",
    "# browser.switch_to.window(window_name= browser.window_handles[0])"
   ]
  },
  {
   "cell_type": "code",
   "execution_count": 11,
   "metadata": {},
   "outputs": [
    {
     "name": "stdout",
     "output_type": "stream",
     "text": [
      "Empty DataFrame\n",
      "Columns: [상품명, 가격, 리뷰, 구매건수, 찜하기, 스마트스토어, 쇼핑몰, 배송비, 용도, 부위, 중량, 등급, 링크]\n",
      "Index: []\n"
     ]
    }
   ],
   "source": []
  },
  {
   "cell_type": "code",
   "execution_count": 12,
   "metadata": {},
   "outputs": [],
   "source": [
    "# for pg in range(total_page):\n",
    "#     try:\n",
    "#         for i in range(2,11):\n",
    "#             scroll()\n",
    "#             boxes = browser.find_elements(By.CSS_SELECTOR,'li.basicList_item__2XT81')\n",
    "#             browser.implicitly_wait(JUMP)     \n",
    "#             for box in boxes:\n",
    "#                 if 'ad' not in box.get_attribute('class'):                                                      # 광고 상품 패스하기\n",
    "#                     data_dic[rank]={}\n",
    "#                     # 제목, 가격 추출\n",
    "#                     data_dic[rank]['상품명'] = box.find_element(By.CSS_SELECTOR, 'a.basicList_link__1MaTN').text\n",
    "#                     data_dic[rank]['링크'] = box.find_element(By.CSS_SELECTOR, 'a.basicList_link__1MaTN').get_attribute('href')\n",
    "#                     data_dic[rank]['가격'] = int(box.find_element(By.CSS_SELECTOR,'span.price_num__2WUXn').text[:-1].replace(',',''))     \n",
    "#                     browser.implicitly_wait(JUMP)     \n",
    "#                     # 리뷰, 구매건수, 찜하기 추출\n",
    "#                     r_boxes = box.find_elements(By.CSS_SELECTOR,'a.basicList_etc__2uAYO')                      \n",
    "#                     browser.implicitly_wait(JUMP)     \n",
    "#                     r_boxes.append(box.find_element(By.CSS_SELECTOR,'button.basicList_btn_zzim__2MGkM'))\n",
    "#                     browser.implicitly_wait(JUMP)     \n",
    "#                     for item in r_boxes:\n",
    "#                         num = item.find_element(By.TAG_NAME, 'em').text\n",
    "#                         browser.implicitly_wait(JUMP)     \n",
    "#                         temp = item.text\n",
    "#                         temp = temp[:len(temp)-len(num)]\n",
    "#                         data_dic[rank][temp] = int(num.replace(',',''))\n",
    "\n",
    "#                     # 쇼핑몰 추출\n",
    "#                     sboxes = box.find_elements(By.CSS_SELECTOR,'a.basicList_mall__sbVax')\n",
    "#                     for sbox in sboxes:\n",
    "#                         if sbox.text == '':\n",
    "#                             shop = sbox.find_element(By.TAG_NAME,'img').get_attribute('alt')\n",
    "#                             data_dic[rank]['스마트스토어'] = 0\n",
    "#                             browser.implicitly_wait(JUMP)     \n",
    "#                         else :\n",
    "#                             shop = sbox.text\n",
    "#                             data_dic[rank]['스마트스토어'] = 1\n",
    "\n",
    "#                         data_dic[rank]['쇼핑몰'] = shop\n",
    "                    \n",
    "#                     # 배송비 추출\n",
    "#                     bbox = box.find_elements(By.CSS_SELECTOR,'em.basicList_option__3eF2s')[0].text\n",
    "#                     bbox = bbox.split()[1]\n",
    "#                     if bbox == '무료':\n",
    "#                         data_dic[rank]['배송비'] = 0\n",
    "#                     else:\n",
    "#                         bbox = int(bbox[:-1].replace(',',''))\n",
    "#                         data_dic[rank]['배송비'] = bbox\n",
    "\n",
    "#                     # 상세정보 초기화                    \n",
    "#                     data_dic[rank]['용도'] = ''\n",
    "#                     data_dic[rank]['부위'] = ''\n",
    "#                     data_dic[rank]['중량'] = ''\n",
    "#                     data_dic[rank]['등급'] = ''\n",
    "                    \n",
    "#                     # 상품 상세페이지 새창에 열었다 닫기\n",
    "#                     if data_dic[rank]['스마트스토어'] == 1:\n",
    "#                         browser.execute_script('window.open(\\''+data_dic[rank]['링크']+'\\');')\n",
    "#                         time.sleep(1)\n",
    "#                         browser.switch_to.window(window_name= browser.window_handles[-1])\n",
    "#                         time.sleep(1)\n",
    "#                         try:\n",
    "#                             product_box = browser.find_elements(By.CSS_SELECTOR,'table._1_UiXWHt__')[1]\n",
    "#                             product_info = product_box.text\n",
    "#                             if '용도' in product_info:\n",
    "#                                 tag_list = list(map(lambda x: x.text ,product_box.find_elements(By.CLASS_NAME,'_1iuv6pLHMD')))\n",
    "#                                 info_list = list(map(lambda x: x.text ,product_box.find_elements(By.CLASS_NAME,'ABROiEshTD')))\n",
    "#                                 print(tag_list,info_list)\n",
    "#                                 for i in range(len(tag_list)):\n",
    "#                                     data_dic[rank][tag_list[i]] = info_list[i] \n",
    "#                         except :\n",
    "#                             data_dic[rank]['스마트스토어'] = 0\n",
    "                        \n",
    "#                         browser.close()\n",
    "#                         time.sleep(1)\n",
    "#                         browser.switch_to.window(window_name= browser.window_handles[0])\n",
    "\n",
    "#                     print(data_dic[rank])\n",
    "#                     print ()\n",
    "#                     if rank == goal:\n",
    "#                         break\n",
    "#                     else: \n",
    "#                         rank +=1\n",
    "#             try: \n",
    "#                 if rank == goal:\n",
    "#                     break\n",
    "#                 browser.find_element(By.CSS_SELECTOR,f'#__next > div > div.style_container__1YjHN > div.style_inner__18zZX > div.style_content_wrap__1PzEo > div.style_content__2T20F > div.pagination_pagination__6AcG4 > div > a:nth-child({i})').click()\n",
    "#                 browser.implicitly_wait(JUMP)        \n",
    "#             except Exception as e:\n",
    "#                 pass\n",
    "#         if rank == goal:\n",
    "#             break\n",
    "#     except:\n",
    "#         pass\n"
   ]
  },
  {
   "cell_type": "code",
   "execution_count": 13,
   "metadata": {},
   "outputs": [
    {
     "name": "stdout",
     "output_type": "stream",
     "text": [
      "['용도', '부위', '중량'] ['육회용', '우둔', '300g']\n",
      "{'상품명': '한우 대구뭉티기 육사시미 소고기 육회 생고기 300g', '링크': 'https://cr.shopping.naver.com/adcr.nhn?x=CQXVvgETmP48cTGoxssFB%2F%2F%2F%2Fw%3D%3DsiEhtCuSkixdGpX0sCmsqLbJsbVLH62HVsYwaz2KSrWXVgDNrJ2WlzBl62rd8y%2BCyCDDcOL7RC%2Fk7DwKo1Lrdc0bAoeRkvpJaJBMwPydFbM8QhkkHXK4%2FmSRy5icYE%2F277LSZbLsKZXazFynOmcCvU5sB%2BwY1sFit48IeggwaG74uc3j7S9LuOzyZRv1Dp7%2F6MBbAUTLhEczrfo6o%2BFCYJ9koDZhZTyE2PqJzLGA4wO7A1RurInzKCuM4WLX1lIKAkzit9Tas3tw6QnXEhDceIIJFc0Uf%2BSGT%2BYme1K%2F%2BeSkQhkkHXK4%2FmSRy5icYE%2F27BW36r4QZshREfg%2B3vq7RNlcH5uANHd6sn9U2w%2FhHYiTU6cDyxmtiBEHU11qly491KIEPy9huh9JNuR6eleqJXiB%2FtrXDnGKRZjFoCqBU9iS7cL4oGhdXvjOjRZlBE6rsVvDFlVrJO3G75T6hZi8YuoqZKwBlEBcmc2d%2FSALsUAdmlZPMI50F0DVyAxAFQijHyJSMv8ylhooTbbiwCb5VhTxjJrIDY92iQA0j1NhAfpmhRynTZHN%2FOAHLTWCRWp%2B%2B5hCxTtO0BEGFMovpO9PUU5WJOmNj87qb55KzQvSJUNmpEX3UDkuedh%2BcrAluksb7uPVnaRe1RvvZ2tOQHxIFOoKoDr6us%2BRKRCOTdsWr9TI%3D&nvMid=82631381835&catId=50004654', '가격': 21900, '리뷰': 2842, '구매건수': 2519, '찜하기': 1119, '스마트스토어': 1, '쇼핑몰': '아이러브농수산', '배송비': 4000, '용도': '육회용', '부위': '우둔', '중량': '300g', '등급': ''}\n",
      "\n",
      "['용도', '부위', '중량'] ['육회용', '우둔, 기타', '200g']\n",
      "{'상품명': '[당일도축] 대구뭉티기 육사시미 한우육회 뭉텅이', '링크': 'https://cr.shopping.naver.com/adcr.nhn?x=cZph2OA11kMjy7%2F%2FIPC1Df%2F%2F%2Fw%3D%3DsGsTTOI%2FEGvUwyUPQbQc419dljimPYwqC8YNwTLkAhXPVgDNrJ2WlzBl62rd8y%2BCy2IdviEW7rsu4Nhr6uSaXmEbAoeRkvpJaJBMwPydFbM8QhkkHXK4%2FmSRy5icYE%2F277LSZbLsKZXazFynOmcCvU5sB%2BwY1sFit48IeggwaG74uc3j7S9LuOzyZRv1Dp7%2F6MBbAUTLhEczrfo6o%2BFCYJ9koDZhZTyE2PqJzLGA4wO6ZrGXMikx05idq9NOwC8NEFmzzBLRxqjxjjR1xSGuj0YJFc0Uf%2BSGT%2BYme1K%2F%2BeSkQhkkHXK4%2FmSRy5icYE%2F27BW36r4QZshREfg%2B3vq7RNlhrcUrWjZDRPJibRVpXp2sQhOhFV9J%2Fe7a05hV3LUUIKIEPy9huh9JNuR6eleqJXn6KdgS84LRMgShjR4vOU7LSQJBUg%2B2Ms1jMl%2FafIbuUO0MiaVwe0imH8y%2BDxw4zgPRbMkrIpG9%2BTcX%2B86RXkZZ7TnmsP7jIcAhOT4mUxPXH8VBoCjctPwc5LE95zLCT4UG9qI91zTaO7FyMcadEqyEKuRYkjM4e4Ja%2BkYhixzj1q%2B1QG9%2BhKxA%2B8QzplZRlOkN6mpFfcSJgiTQ%2Fxk5Zjs4yVFddteNKUMAT3myna7jE8j%2Bss420ExlV20HIxzk1Lw4SwcLvxUEucVmH%2BcOht40%3D&nvMid=83718773113&catId=50004654', '가격': 14900, '리뷰': 152, '구매건수': 296, '찜하기': 297, '스마트스토어': 1, '쇼핑몰': '성수동클래식', '배송비': 3500, '용도': '육회용', '부위': '우둔, 기타', '중량': '200g', '등급': ''}\n",
      "\n",
      "['용도', '부위', '중량'] ['육회용', '우둔', '250g']\n",
      "{'상품명': '당일도축 대구뭉티기 한우육회 소고기 육회 생고기 육사시미 250g', '링크': 'https://cr.shopping.naver.com/adcr.nhn?x=5xkkzQtN%2BzGeFFsPQ2aalP%2F%2F%2Fw%3D%3DsiUgIekLXhRAHM0gIc2hUhy0j1FIpBT4krb64a7ecC3%2FVgDNrJ2WlzBl62rd8y%2BCyJJavwdT7kPhSn3LrfDe63UbAoeRkvpJaJBMwPydFbM8QhkkHXK4%2FmSRy5icYE%2F277LSZbLsKZXazFynOmcCvU5sB%2BwY1sFit48IeggwaG74uc3j7S9LuOzyZRv1Dp7%2F6MBbAUTLhEczrfo6o%2BFCYJ9koDZhZTyE2PqJzLGA4wO48aiSppdYW7eRHyqdVEfsLAOZDaFborhQl5A9fsRhff4JFc0Uf%2BSGT%2BYme1K%2F%2BeSkQhkkHXK4%2FmSRy5icYE%2F27ZC%2BSXUxwyLUckntucAABtTJTKGNv7QVEcstayB0FSFl0oWKO4xgv1GjfDdxdx1HemXDmIOOB6kamF9uF35YumKXuRu5MUCoYs%2BflMb5%2FAQmPEHqbOa1nOK7hUQxWAWI8W3AnHhA0mgJKfFmirC9a6ogT7Gwz9CQVIWTzL%2BH1gs9gx6r3svAVEEwCGOAqfdRcgDllAuSLx3TTmnmKCyWat7sXUKvkWFYKAODO%2FPg7oX8oBADA%2BrQTD50UZPWSs%2FVisYqbHZscwVOU%2FshHzPZiJ4OuAKV6RXG1Is03XJLviBeiIg2lro03ezBphzzIpqRb4ak5hhnp34IPb9KUo9SM9WIMoqRdJO69xmO%2BdI0O%2BploaKZHilHbuauHUigNM5KA&nvMid=82307515528&catId=50004654', '가격': 21800, '리뷰': 7695, '구매건수': 4368, '찜하기': 1519, '스마트스토어': 1, '쇼핑몰': '솔직한농부', '배송비': 4000, '용도': '육회용', '부위': '우둔', '중량': '250g', '등급': ''}\n",
      "\n",
      "['용도', '부위', '중량'] ['육회용', '우둔', '200g']\n",
      "{'상품명': '[백십일] 무료배송 한우 뭉티기 당일도축 대구 육사시미 200g', '링크': 'https://cr.shopping.naver.com/adcr.nhn?x=YaaRCM13F2x%2FQFNc1esNLv%2F%2F%2Fw%3D%3DsXMdd3Hnxho9fqQdQGn74oTP8WmmN9XoaPTaO%2B49%2Fp3YIqpOW2PnYnvL%2BIpV9lPzX6VZRvIQXJM7xsVp85UeL4h4pza8ebIOIXPrPsGGS95ek6v2w9jBqMGR4TTsgYaQncqdrd9YTvgXq%2Fwn4Tcr7zHi175YNzPC9gNPY4s4oGedxpLT8N3d72PyDWPd7zruyzdFWVghLHoj82YodFRJNzea0O2TX7GIDZW3de8vjU8zMro%2FiSqH4jQmjsaLWljjOUEJtlUURMCSIlvmZeUPJ5N4an%2FzTqhVRN5HiEzJvDPKk6v2w9jBqMGR4TTsgYaQnlII%2ByYYqWVu3SSXxcjEJdGfSf02UfambBZlONNyxUDMu0%2F9%2Fb24vo0Kc6qyOUIHhrXb%2B3d0QTOTIl2QL0uQODISdfy%2BSCDOBm%2BNxSP2zGYvCgyt%2FXXfk08Hj1%2FizOSkEDdPBtCDHX%2FaWgq6hyTq4rBPm18q%2BHRr8kJtQC7WL4300i4pZRxz63D63vE8ct%2BmfY%2BxhcmJsbv1iq0aSbODhLTvUIKW2ivrUqdirD%2B9S8otBvaiPdc02juxcjHGnRKshD%2FubXA6h1J3yx1nkUri0%2F6vtUBvfoSsQPvEM6ZWUZTrSqsjqX8SDaJCS9%2FAHhy79ReCA18SnNmMyj5utaqvIRc5jFgSB2K%2BoZ02L8S6dnW0OEsHC78VBLnFZh%2FnDobeN&nvMid=83684587130&catId=50004654', '가격': 24900, '리뷰': 613, '구매건수': 1206, '찜하기': 805, '스마트스토어': 1, '쇼핑몰': '백십일', '배송비': 0, '용도': '육회용', '부위': '우둔', '중량': '200g', '등급': ''}\n",
      "\n",
      "['용도', '부위', '중량'] ['육회용', '우둔', '250g']\n",
      "{'상품명': '당일도축 대구뭉티기 한우 생고기 육사시미 육회', '링크': 'https://cr.shopping.naver.com/adcr.nhn?x=IIZhYfcOe2gBGePa3P%2FWD%2F%2F%2F%2Fw%3D%3Ds8A0WD1QNyVn6yQfrT4qmAfZKVOK0zjgffoMTGkQ3FynVgDNrJ2WlzBl62rd8y%2BCyD81J5MYey25NreMIbTrOGEbAoeRkvpJaJBMwPydFbM8QhkkHXK4%2FmSRy5icYE%2F277LSZbLsKZXazFynOmcCvU5sB%2BwY1sFit48IeggwaG74uc3j7S9LuOzyZRv1Dp7%2F6MBbAUTLhEczrfo6o%2BFCYJ9koDZhZTyE2PqJzLGA4wO5UCq1wS0gyiuePYzktKp6qNh1S0A3YCITGtT3YYYouyoJFc0Uf%2BSGT%2BYme1K%2F%2BeSkQhkkHXK4%2FmSRy5icYE%2F27ZC%2BSXUxwyLUckntucAABtSIVhN0bIOwi%2BiIneHBuNCg92NMUeX12hiw3OKRgQgAuKIEPy9huh9JNuR6eleqJXhqnTbFUBQp%2B3g29YWR2EfdcSleoFxZpYEh0mGGbDRSnmmGgEUBTp2GtSskKqMhhNse7xE0WC8Lew72fGWtUYBbte1LUs0dd%2FjHR%2FPuSWLIEiQgupYTeAg0mxhqmS2NgmVcyVnkBVz76Cdi7CLMh3Rw%2BedvAkuJ5YDkZ9hpo9o6VD%2B1GzYyCQAVsDO6ulMSblsEGP8rJVdnm4hg4TC36GwfD4619yIfrS3eFWe9%2Bj%2B5DYlCPMXQ%2Bqvnq8xU1ErlaEYKoDr6us%2BRKRCOTdsWr9TI%3D&nvMid=83973494775&catId=50004654', '가격': 20800, '리뷰': 296, '구매건수': 618, '찜하기': 207, '스마트스토어': 1, '쇼핑몰': '고기에 진심을 담다', '배송비': 4000, '용도': '육회용', '부위': '우둔', '중량': '250g', '등급': ''}\n",
      "\n",
      "['용도', '중량'] ['육회용', '300~600g']\n",
      "{'상품명': '당일도축분 대구뭉티기 한우육사시미300g 생고기 육회 양념장제공', '링크': 'https://cr.shopping.naver.com/adcr.nhn?x=WU%2BklmM%2BzmZt7A204L8ZbP%2F%2F%2Fw%3D%3Ds%2FmLJadtI5yY5CXyh5IV7tvRNmQq8zWSZJVPxx2U423rVgDNrJ2WlzBl62rd8y%2BCykc2EN5gmBaq5g05MwQfFE0bAoeRkvpJaJBMwPydFbM8QhkkHXK4%2FmSRy5icYE%2F277LSZbLsKZXazFynOmcCvU5sB%2BwY1sFit48IeggwaG74uc3j7S9LuOzyZRv1Dp7%2F6MBbAUTLhEczrfo6o%2BFCYJ9koDZhZTyE2PqJzLGA4wO4dJ2Yr1yEyFtQ5yBEYwLFUiEJGoaFS9Ulz4IKP3%2FjA54JFc0Uf%2BSGT%2BYme1K%2F%2BeSkQhkkHXK4%2FmSRy5icYE%2F27ZC%2BSXUxwyLUckntucAABta8IgE8mfNkDmCYVPJfInib%2Fp8Bc1z6mnKQ4jaDo9eAJKIEPy9huh9JNuR6eleqJXpExa4dWodks3m2iwZzOJwtcSleoFxZpYEh0mGGbDRSn9kjddrjy1gScTffdmbHAbnRi%2BX6%2B6Mr05HFjypQ%2F9EFznPxp91%2FydSN3n1ZCCpluZ2bpaOW8f%2FY8GVNxvk1wN%2BEIIJcpMRh0Too5Zm69kzQ4pET4ZS2xlj0RDNoACAjqWwZl%2BLcuHUk74eq6jxkVYnw6swOIw8b9Wo4GaG9%2FkIS0wagNTnknr1XYgMok4yxM3ubAfjaoFHojA%2BhraGcJsob9G5tFngkwt5oaelTSB1zHICEQpPL7Rm%2B2fyhjEhHR&nvMid=82376023153&catId=50004654', '가격': 20400, '리뷰': 958, '구매건수': 814, '찜하기': 318, '스마트스토어': 1, '쇼핑몰': '동인축산', '배송비': 4000, '용도': '육회용', '부위': '', '중량': '300~600g', '등급': ''}\n",
      "\n",
      "['용도', '부위', '중량'] ['육회용', '우둔', '200g']\n",
      "{'상품명': '당일도축 대구뭉티기 육사시미 한우 육회 생고기 뭉텅이 뭉태기', '링크': 'https://cr.shopping.naver.com/adcr.nhn?x=SL0UukwOv8IoKc4wMEtH7P%2F%2F%2Fw%3D%3DsCmmh%2FohxdV8W2n0VY5hVAT%2FcD4gQegxw%2BRuM8%2BYLpaDVgDNrJ2WlzBl62rd8y%2BCyWG3EPs3LPmVXQTq1qfeMK0bAoeRkvpJaJBMwPydFbM8QhkkHXK4%2FmSRy5icYE%2F277LSZbLsKZXazFynOmcCvU5sB%2BwY1sFit48IeggwaG74uc3j7S9LuOzyZRv1Dp7%2F6MBbAUTLhEczrfo6o%2BFCYJ9koDZhZTyE2PqJzLGA4wO7QwD0JzeLT91h99hl%2Bpw9VAwRcBgpPbSXOkyXZN%2FVQy4JFc0Uf%2BSGT%2BYme1K%2F%2BeSkQhkkHXK4%2FmSRy5icYE%2F27BW36r4QZshREfg%2B3vq7RNsawgbWLNzv3SuOcvAynApLDuilHni6pzCkCUmo5ZeHWKIEPy9huh9JNuR6eleqJXkFO7DN8tHEtdtvwLLk%2BG%2FJcSleoFxZpYEh0mGGbDRSnmmGgEUBTp2GtSskKqMhhNgJcizpsGbapzBWgOCwwzrI%2FZGuCV3RhaocMdMA5spDTk0AwL%2F9btFbKXSG13TZlGYHogWsDEMaRfkGlnoD9OG8oBADA%2BrQTD50UZPWSs%2FViIGoMor6uZBiC9jcxa9uoaIOuAKV6RXG1Is03XJLviBcRhyhTJNp%2F1XbkDxwKyyyB7zUD3GrZQ6g1%2BCN%2FwaG3PSQOu3J9yMnRRZjh32bUQCBoaKZHilHbuauHUigNM5KA&nvMid=84204919892&catId=50004654', '가격': 11900, '리뷰': 27, '구매건수': 52, '찜하기': 26, '스마트스토어': 1, '쇼핑몰': '전라도청년', '배송비': 3000, '용도': '육회용', '부위': '우둔', '중량': '200g', '등급': ''}\n",
      "\n",
      "['용도', '부위', '중량'] ['육회용', '우둔', '250,600g']\n",
      "{'상품명': '육사시미 소스 뭉티기 우둔살 한우 대구', '링크': 'https://cr.shopping.naver.com/adcr.nhn?x=rK2O7P%2F3CngLbAC2OUoaZf%2F%2F%2Fw%3D%3DsEIDbN6TUTl%2FP3WHPWEMCl0O1zUjwhEIlfcJk2sGTcRwIqpOW2PnYnvL%2BIpV9lPzXhfkkVjGbyphwvg7O4v5LfR4pza8ebIOIXPrPsGGS95ek6v2w9jBqMGR4TTsgYaQncqdrd9YTvgXq%2Fwn4Tcr7zHi175YNzPC9gNPY4s4oGedxpLT8N3d72PyDWPd7zruyzdFWVghLHoj82YodFRJNzea0O2TX7GIDZW3de8vjU8xwE5vVdrGxizJveDKem%2BuOQDA58rVUfOAvjcjaGjORUt4an%2FzTqhVRN5HiEzJvDPKk6v2w9jBqMGR4TTsgYaQnlII%2ByYYqWVu3SSXxcjEJdFrqQW%2BHCbgwRZWNPxJQ2jS1TJAceiLakv5PMMlEcnBXAbWnbEXzrP9nTOtX6d%2FrCCzlpvSLARNugIfVrGkxGN3V02AovSJnOHNw9BheBVja5f68WHR8bmOCG4dlCNv4d9L9A8ECt6ciWYlULolOzKfiTPK3OZltbDhJd%2FYmcDTn8roUw5EtTACSd%2Bktzh%2B9zwxXLIha8pCREJ9HHCRjv1HFvE2CdWKEnL551abFfExww6%2Fbk591SgOuuGW6736HG2xh3VuPe8C35zdupzfyWiWtzQBwXKTdmlwLOMB97r61xyAhEKTy%2B0Zvtn8oYxIR0Q%3D%3D&nvMid=83066649760&catId=50004654', '가격': 20000, '리뷰': 3, '구매건수': 2, '찜하기': 9, '스마트스토어': 1, '쇼핑몰': '율이네식탁', '배송비': 4000, '용도': '육회용', '부위': '우둔', '중량': '250,600g', '등급': ''}\n",
      "\n",
      "['용도', '부위', '중량'] ['육회용', '우둔', '300g']\n",
      "{'상품명': '당일도축 대구뭉티기 육사시미 한우육회 소고기 육회 생고기 250g 600g', '링크': 'https://cr.shopping.naver.com/adcr.nhn?x=jsATFTtb2LiTLnDq0o4VAP%2F%2F%2Fw%3D%3DsZxtocMINMw33OA2B%2Fic5rnikLRVK3yUAPs1HwpQF%2BhHVgDNrJ2WlzBl62rd8y%2BCyJG2qTfc7qs5cDvnfy54lm0bAoeRkvpJaJBMwPydFbM8QhkkHXK4%2FmSRy5icYE%2F277LSZbLsKZXazFynOmcCvU5sB%2BwY1sFit48IeggwaG74uc3j7S9LuOzyZRv1Dp7%2F6MBbAUTLhEczrfo6o%2BFCYJ9koDZhZTyE2PqJzLGA4wO70q51pJnspZ5aDVsuHLeFgjnJATmxJYNLNFhtIBRulTYJFc0Uf%2BSGT%2BYme1K%2F%2BeSkQhkkHXK4%2FmSRy5icYE%2F27%2FhDyiXZ86Jo%2BZEQ64BV62bSgZiYE%2Fb4r%2BFcMwlomjVP2VxPkPNytk3gD%2BIpQ57wWKIEPy9huh9JNuR6eleqJXoEp%2FbiTcBvSuJm44AzDncJcSleoFxZpYEh0mGGbDRSnmmGgEUBTp2GtSskKqMhhNgJcizpsGbapzBWgOCwwzrIZVjaHgaIkby9kBjDqD6jvsFCLIxp%2BZRbLyjcV2m2TxMEXvUnO%2FkhvNu3mfYcx4Q9b0XFrlEWydkSPnkdb%2BotpJaIWibq0UHF7ZDUp87gD%2B92dRUSSHdI95PA5EoApmTvVbaBkL5q2U304D1P0QvzXvjtb6F6tfaVxq2DsNwf9ONPgtkXgrfk8A60UXvuPShkDfkLIyuldBS3f8m8e6nLmzUhNzs2VE%2B%2Bisqs3JAEppg%3D%3D&nvMid=83307628360&catId=50004654', '가격': 16900, '리뷰': 238, '구매건수': 575, '찜하기': 306, '스마트스토어': 1, '쇼핑몰': '시장마트', '배송비': 4000, '용도': '육회용', '부위': '우둔', '중량': '300g', '등급': ''}\n",
      "\n",
      "['용도', '부위', '중량'] ['육회용, 불고기용, 장조림용', '우둔', '300g']\n",
      "{'상품명': '한우 암소 투플러스 우둔살 보섭살 육사시미 육회 뭉티기 한우생고기 1++', '링크': 'https://cr.shopping.naver.com/adcr.nhn?x=bYYpWQNiTuTImb3iB3LxIv%2F%2F%2Fw%3D%3DsI7k%2F7G6zlQTt%2FJ0lFVIDv3Sdek62Ky3EcuEv0Xyk6pTVgDNrJ2WlzBl62rd8y%2BCyndumsg%2FA%2FPeuoI03t7XbokbAoeRkvpJaJBMwPydFbM8QhkkHXK4%2FmSRy5icYE%2F277LSZbLsKZXazFynOmcCvU5sB%2BwY1sFit48IeggwaG74uc3j7S9LuOzyZRv1Dp7%2F6MBbAUTLhEczrfo6o%2BFCYJ9koDZhZTyE2PqJzLGA4wO6PC6vF01KCiqTOpzBjKaKaxdi3idWAxqeaBtNCLuSqZYJFc0Uf%2BSGT%2BYme1K%2F%2BeSkQhkkHXK4%2FmSRy5icYE%2F27%2FhDyiXZ86Jo%2BZEQ64BV62QxxxbzSEOY5sOZGftysQz0lJNEfxiZVsPB4XIC8rC7mKIEPy9huh9JNuR6eleqJXkJfWaEyL1ZfUwrhWTBelwy7cL4oGhdXvjOjRZlBE6rsQ9hI2EncpuzZcZm45MTGLTEGKawbjhYN6UZqgl1aNHn99p5DfyJodySpV%2Fa9PZaeuMoAfAmQKHur9y3kG4a6rdgKIvijjVNrE5M0LMN27SqCSZE3%2FxIBXWQHuLXEyZbNIUpIbAQHy7MZg35kGMRIMuS4nzLIj%2BNe9KTroKRWtReQCU4rA9qEITJh30T6VqaOY38hUJeB9GDvEoSr1hrYUTvntux5M1Z9oqFJsfjZuFko%2FfmqwOY6EUaTxQP1FZSUgqgOvq6z5EpEI5N2xav1Mg%3D%3D&nvMid=82716143302&catId=50004654', '가격': 18000, '리뷰': 854, '구매건수': 1085, '찜하기': 412, '스마트스토어': 1, '쇼핑몰': '소문난정육점', '배송비': 3000, '용도': '육회용, 불고기용, 장조림용', '부위': '우둔', '중량': '300g', '등급': ''}\n",
      "\n"
     ]
    }
   ],
   "source": [
    "for pg in range(total_page):\n",
    "    try:\n",
    "        for i in range(2,11):\n",
    "            scroll()\n",
    "            boxes = browser.find_elements(By.CSS_SELECTOR,'li.basicList_item__2XT81')\n",
    "            browser.implicitly_wait(JUMP)     \n",
    "            for box in boxes:\n",
    "                if 'ad' not in box.get_attribute('class'):                                                      # 광고 상품 패스하기\n",
    "                    # 제목, 가격 추출\n",
    "                    data_dic = {}\n",
    "                    data_dic['상품명'] = box.find_element(By.CSS_SELECTOR, 'a.basicList_link__1MaTN').text\n",
    "                    data_dic['링크'] = box.find_element(By.CSS_SELECTOR, 'a.basicList_link__1MaTN').get_attribute('href')\n",
    "                    data_dic['가격'] = int(box.find_element(By.CSS_SELECTOR,'span.price_num__2WUXn').text[:-1].replace(',',''))     \n",
    "                    browser.implicitly_wait(JUMP)     \n",
    "                    # 리뷰, 구매건수, 찜하기 추출\n",
    "                    r_boxes = box.find_elements(By.CSS_SELECTOR,'a.basicList_etc__2uAYO')                      \n",
    "                    browser.implicitly_wait(JUMP)     \n",
    "                    r_boxes.append(box.find_element(By.CSS_SELECTOR,'button.basicList_btn_zzim__2MGkM'))\n",
    "                    browser.implicitly_wait(JUMP)     \n",
    "                    for item in r_boxes:\n",
    "                        num = item.find_element(By.TAG_NAME, 'em').text\n",
    "                        browser.implicitly_wait(JUMP)     \n",
    "                        temp = item.text\n",
    "                        temp = temp[:len(temp)-len(num)]\n",
    "                        data_dic[temp] = int(num.replace(',',''))\n",
    "\n",
    "                    # 쇼핑몰 추출\n",
    "                    sboxes = box.find_elements(By.CSS_SELECTOR,'a.basicList_mall__sbVax')\n",
    "                    for sbox in sboxes:\n",
    "                        if sbox.text == '':\n",
    "                            shop = sbox.find_element(By.TAG_NAME,'img').get_attribute('alt')\n",
    "                            data_dic['스마트스토어'] = 0\n",
    "                            browser.implicitly_wait(JUMP)     \n",
    "                        else :\n",
    "                            shop = sbox.text\n",
    "                            data_dic['스마트스토어'] = 1\n",
    "\n",
    "                        data_dic['쇼핑몰'] = shop\n",
    "                    \n",
    "                    # 배송비 추출\n",
    "                    bbox = box.find_elements(By.CSS_SELECTOR,'em.basicList_option__3eF2s')[0].text\n",
    "                    bbox = bbox.split()[1]\n",
    "                    if bbox == '무료':\n",
    "                        data_dic['배송비'] = 0\n",
    "                    else:\n",
    "                        bbox = int(bbox[:-1].replace(',',''))\n",
    "                        data_dic['배송비'] = bbox\n",
    "\n",
    "                    # 상세정보 초기화                    \n",
    "                    data_dic['용도'] = ''\n",
    "                    data_dic['부위'] = ''\n",
    "                    data_dic['중량'] = ''\n",
    "                    data_dic['등급'] = ''\n",
    "                    \n",
    "                    # 상품 상세페이지 새창에 열었다 닫기\n",
    "                    if data_dic['스마트스토어'] == 1:\n",
    "                        browser.execute_script('window.open(\\''+data_dic['링크']+'\\');')\n",
    "                        time.sleep(1)\n",
    "                        browser.switch_to.window(window_name= browser.window_handles[-1])\n",
    "                        time.sleep(1)\n",
    "                        try:\n",
    "                            product_box = browser.find_elements(By.CSS_SELECTOR,'table._1_UiXWHt__')[1]\n",
    "                            product_info = product_box.text\n",
    "                            if '용도' in product_info:\n",
    "                                tag_list = list(map(lambda x: x.text ,product_box.find_elements(By.CLASS_NAME,'_1iuv6pLHMD')))\n",
    "                                info_list = list(map(lambda x: x.text ,product_box.find_elements(By.CLASS_NAME,'ABROiEshTD')))\n",
    "                                print(tag_list,info_list)\n",
    "                                for i in range(len(tag_list)):\n",
    "                                    data_dic[tag_list[i]] = info_list[i] \n",
    "                        except :\n",
    "                            data_dic['스마트스토어'] = 0\n",
    "                        \n",
    "                        browser.close()\n",
    "                        time.sleep(1)\n",
    "                        browser.switch_to.window(window_name= browser.window_handles[0])\n",
    "\n",
    "                    print(data_dic)\n",
    "                    dic_list.append(data_dic)\n",
    "                    print ()\n",
    "                    if rank == goal:\n",
    "                        break\n",
    "                    else: \n",
    "                        rank +=1\n",
    "            try: \n",
    "                if rank == goal:\n",
    "                    break\n",
    "                browser.find_element(By.CSS_SELECTOR,f'#__next > div > div.style_container__1YjHN > div.style_inner__18zZX > div.style_content_wrap__1PzEo > div.style_content__2T20F > div.pagination_pagination__6AcG4 > div > a:nth-child({i})').click()\n",
    "                browser.implicitly_wait(JUMP)        \n",
    "            except Exception as e:\n",
    "                pass\n",
    "        if rank == goal:\n",
    "            break\n",
    "    except:\n",
    "        pass\n"
   ]
  },
  {
   "cell_type": "code",
   "execution_count": 14,
   "metadata": {},
   "outputs": [
    {
     "name": "stdout",
     "output_type": "stream",
     "text": [
      "[{'상품명': '한우 대구뭉티기 육사시미 소고기 육회 생고기 300g', '링크': 'https://cr.shopping.naver.com/adcr.nhn?x=CQXVvgETmP48cTGoxssFB%2F%2F%2F%2Fw%3D%3DsiEhtCuSkixdGpX0sCmsqLbJsbVLH62HVsYwaz2KSrWXVgDNrJ2WlzBl62rd8y%2BCyCDDcOL7RC%2Fk7DwKo1Lrdc0bAoeRkvpJaJBMwPydFbM8QhkkHXK4%2FmSRy5icYE%2F277LSZbLsKZXazFynOmcCvU5sB%2BwY1sFit48IeggwaG74uc3j7S9LuOzyZRv1Dp7%2F6MBbAUTLhEczrfo6o%2BFCYJ9koDZhZTyE2PqJzLGA4wO7A1RurInzKCuM4WLX1lIKAkzit9Tas3tw6QnXEhDceIIJFc0Uf%2BSGT%2BYme1K%2F%2BeSkQhkkHXK4%2FmSRy5icYE%2F27BW36r4QZshREfg%2B3vq7RNlcH5uANHd6sn9U2w%2FhHYiTU6cDyxmtiBEHU11qly491KIEPy9huh9JNuR6eleqJXiB%2FtrXDnGKRZjFoCqBU9iS7cL4oGhdXvjOjRZlBE6rsVvDFlVrJO3G75T6hZi8YuoqZKwBlEBcmc2d%2FSALsUAdmlZPMI50F0DVyAxAFQijHyJSMv8ylhooTbbiwCb5VhTxjJrIDY92iQA0j1NhAfpmhRynTZHN%2FOAHLTWCRWp%2B%2B5hCxTtO0BEGFMovpO9PUU5WJOmNj87qb55KzQvSJUNmpEX3UDkuedh%2BcrAluksb7uPVnaRe1RvvZ2tOQHxIFOoKoDr6us%2BRKRCOTdsWr9TI%3D&nvMid=82631381835&catId=50004654', '가격': 21900, '리뷰': 2842, '구매건수': 2519, '찜하기': 1119, '스마트스토어': 1, '쇼핑몰': '아이러브농수산', '배송비': 4000, '용도': '육회용', '부위': '우둔', '중량': '300g', '등급': ''}, {'상품명': '[당일도축] 대구뭉티기 육사시미 한우육회 뭉텅이', '링크': 'https://cr.shopping.naver.com/adcr.nhn?x=cZph2OA11kMjy7%2F%2FIPC1Df%2F%2F%2Fw%3D%3DsGsTTOI%2FEGvUwyUPQbQc419dljimPYwqC8YNwTLkAhXPVgDNrJ2WlzBl62rd8y%2BCy2IdviEW7rsu4Nhr6uSaXmEbAoeRkvpJaJBMwPydFbM8QhkkHXK4%2FmSRy5icYE%2F277LSZbLsKZXazFynOmcCvU5sB%2BwY1sFit48IeggwaG74uc3j7S9LuOzyZRv1Dp7%2F6MBbAUTLhEczrfo6o%2BFCYJ9koDZhZTyE2PqJzLGA4wO6ZrGXMikx05idq9NOwC8NEFmzzBLRxqjxjjR1xSGuj0YJFc0Uf%2BSGT%2BYme1K%2F%2BeSkQhkkHXK4%2FmSRy5icYE%2F27BW36r4QZshREfg%2B3vq7RNlhrcUrWjZDRPJibRVpXp2sQhOhFV9J%2Fe7a05hV3LUUIKIEPy9huh9JNuR6eleqJXn6KdgS84LRMgShjR4vOU7LSQJBUg%2B2Ms1jMl%2FafIbuUO0MiaVwe0imH8y%2BDxw4zgPRbMkrIpG9%2BTcX%2B86RXkZZ7TnmsP7jIcAhOT4mUxPXH8VBoCjctPwc5LE95zLCT4UG9qI91zTaO7FyMcadEqyEKuRYkjM4e4Ja%2BkYhixzj1q%2B1QG9%2BhKxA%2B8QzplZRlOkN6mpFfcSJgiTQ%2Fxk5Zjs4yVFddteNKUMAT3myna7jE8j%2Bss420ExlV20HIxzk1Lw4SwcLvxUEucVmH%2BcOht40%3D&nvMid=83718773113&catId=50004654', '가격': 14900, '리뷰': 152, '구매건수': 296, '찜하기': 297, '스마트스토어': 1, '쇼핑몰': '성수동클래식', '배송비': 3500, '용도': '육회용', '부위': '우둔, 기타', '중량': '200g', '등급': ''}, {'상품명': '당일도축 대구뭉티기 한우육회 소고기 육회 생고기 육사시미 250g', '링크': 'https://cr.shopping.naver.com/adcr.nhn?x=5xkkzQtN%2BzGeFFsPQ2aalP%2F%2F%2Fw%3D%3DsiUgIekLXhRAHM0gIc2hUhy0j1FIpBT4krb64a7ecC3%2FVgDNrJ2WlzBl62rd8y%2BCyJJavwdT7kPhSn3LrfDe63UbAoeRkvpJaJBMwPydFbM8QhkkHXK4%2FmSRy5icYE%2F277LSZbLsKZXazFynOmcCvU5sB%2BwY1sFit48IeggwaG74uc3j7S9LuOzyZRv1Dp7%2F6MBbAUTLhEczrfo6o%2BFCYJ9koDZhZTyE2PqJzLGA4wO48aiSppdYW7eRHyqdVEfsLAOZDaFborhQl5A9fsRhff4JFc0Uf%2BSGT%2BYme1K%2F%2BeSkQhkkHXK4%2FmSRy5icYE%2F27ZC%2BSXUxwyLUckntucAABtTJTKGNv7QVEcstayB0FSFl0oWKO4xgv1GjfDdxdx1HemXDmIOOB6kamF9uF35YumKXuRu5MUCoYs%2BflMb5%2FAQmPEHqbOa1nOK7hUQxWAWI8W3AnHhA0mgJKfFmirC9a6ogT7Gwz9CQVIWTzL%2BH1gs9gx6r3svAVEEwCGOAqfdRcgDllAuSLx3TTmnmKCyWat7sXUKvkWFYKAODO%2FPg7oX8oBADA%2BrQTD50UZPWSs%2FVisYqbHZscwVOU%2FshHzPZiJ4OuAKV6RXG1Is03XJLviBeiIg2lro03ezBphzzIpqRb4ak5hhnp34IPb9KUo9SM9WIMoqRdJO69xmO%2BdI0O%2BploaKZHilHbuauHUigNM5KA&nvMid=82307515528&catId=50004654', '가격': 21800, '리뷰': 7695, '구매건수': 4368, '찜하기': 1519, '스마트스토어': 1, '쇼핑몰': '솔직한농부', '배송비': 4000, '용도': '육회용', '부위': '우둔', '중량': '250g', '등급': ''}, {'상품명': '[백십일] 무료배송 한우 뭉티기 당일도축 대구 육사시미 200g', '링크': 'https://cr.shopping.naver.com/adcr.nhn?x=YaaRCM13F2x%2FQFNc1esNLv%2F%2F%2Fw%3D%3DsXMdd3Hnxho9fqQdQGn74oTP8WmmN9XoaPTaO%2B49%2Fp3YIqpOW2PnYnvL%2BIpV9lPzX6VZRvIQXJM7xsVp85UeL4h4pza8ebIOIXPrPsGGS95ek6v2w9jBqMGR4TTsgYaQncqdrd9YTvgXq%2Fwn4Tcr7zHi175YNzPC9gNPY4s4oGedxpLT8N3d72PyDWPd7zruyzdFWVghLHoj82YodFRJNzea0O2TX7GIDZW3de8vjU8zMro%2FiSqH4jQmjsaLWljjOUEJtlUURMCSIlvmZeUPJ5N4an%2FzTqhVRN5HiEzJvDPKk6v2w9jBqMGR4TTsgYaQnlII%2ByYYqWVu3SSXxcjEJdGfSf02UfambBZlONNyxUDMu0%2F9%2Fb24vo0Kc6qyOUIHhrXb%2B3d0QTOTIl2QL0uQODISdfy%2BSCDOBm%2BNxSP2zGYvCgyt%2FXXfk08Hj1%2FizOSkEDdPBtCDHX%2FaWgq6hyTq4rBPm18q%2BHRr8kJtQC7WL4300i4pZRxz63D63vE8ct%2BmfY%2BxhcmJsbv1iq0aSbODhLTvUIKW2ivrUqdirD%2B9S8otBvaiPdc02juxcjHGnRKshD%2FubXA6h1J3yx1nkUri0%2F6vtUBvfoSsQPvEM6ZWUZTrSqsjqX8SDaJCS9%2FAHhy79ReCA18SnNmMyj5utaqvIRc5jFgSB2K%2BoZ02L8S6dnW0OEsHC78VBLnFZh%2FnDobeN&nvMid=83684587130&catId=50004654', '가격': 24900, '리뷰': 613, '구매건수': 1206, '찜하기': 805, '스마트스토어': 1, '쇼핑몰': '백십일', '배송비': 0, '용도': '육회용', '부위': '우둔', '중량': '200g', '등급': ''}, {'상품명': '당일도축 대구뭉티기 한우 생고기 육사시미 육회', '링크': 'https://cr.shopping.naver.com/adcr.nhn?x=IIZhYfcOe2gBGePa3P%2FWD%2F%2F%2F%2Fw%3D%3Ds8A0WD1QNyVn6yQfrT4qmAfZKVOK0zjgffoMTGkQ3FynVgDNrJ2WlzBl62rd8y%2BCyD81J5MYey25NreMIbTrOGEbAoeRkvpJaJBMwPydFbM8QhkkHXK4%2FmSRy5icYE%2F277LSZbLsKZXazFynOmcCvU5sB%2BwY1sFit48IeggwaG74uc3j7S9LuOzyZRv1Dp7%2F6MBbAUTLhEczrfo6o%2BFCYJ9koDZhZTyE2PqJzLGA4wO5UCq1wS0gyiuePYzktKp6qNh1S0A3YCITGtT3YYYouyoJFc0Uf%2BSGT%2BYme1K%2F%2BeSkQhkkHXK4%2FmSRy5icYE%2F27ZC%2BSXUxwyLUckntucAABtSIVhN0bIOwi%2BiIneHBuNCg92NMUeX12hiw3OKRgQgAuKIEPy9huh9JNuR6eleqJXhqnTbFUBQp%2B3g29YWR2EfdcSleoFxZpYEh0mGGbDRSnmmGgEUBTp2GtSskKqMhhNse7xE0WC8Lew72fGWtUYBbte1LUs0dd%2FjHR%2FPuSWLIEiQgupYTeAg0mxhqmS2NgmVcyVnkBVz76Cdi7CLMh3Rw%2BedvAkuJ5YDkZ9hpo9o6VD%2B1GzYyCQAVsDO6ulMSblsEGP8rJVdnm4hg4TC36GwfD4619yIfrS3eFWe9%2Bj%2B5DYlCPMXQ%2Bqvnq8xU1ErlaEYKoDr6us%2BRKRCOTdsWr9TI%3D&nvMid=83973494775&catId=50004654', '가격': 20800, '리뷰': 296, '구매건수': 618, '찜하기': 207, '스마트스토어': 1, '쇼핑몰': '고기에 진심을 담다', '배송비': 4000, '용도': '육회용', '부위': '우둔', '중량': '250g', '등급': ''}, {'상품명': '당일도축분 대구뭉티기 한우육사시미300g 생고기 육회 양념장제공', '링크': 'https://cr.shopping.naver.com/adcr.nhn?x=WU%2BklmM%2BzmZt7A204L8ZbP%2F%2F%2Fw%3D%3Ds%2FmLJadtI5yY5CXyh5IV7tvRNmQq8zWSZJVPxx2U423rVgDNrJ2WlzBl62rd8y%2BCykc2EN5gmBaq5g05MwQfFE0bAoeRkvpJaJBMwPydFbM8QhkkHXK4%2FmSRy5icYE%2F277LSZbLsKZXazFynOmcCvU5sB%2BwY1sFit48IeggwaG74uc3j7S9LuOzyZRv1Dp7%2F6MBbAUTLhEczrfo6o%2BFCYJ9koDZhZTyE2PqJzLGA4wO4dJ2Yr1yEyFtQ5yBEYwLFUiEJGoaFS9Ulz4IKP3%2FjA54JFc0Uf%2BSGT%2BYme1K%2F%2BeSkQhkkHXK4%2FmSRy5icYE%2F27ZC%2BSXUxwyLUckntucAABta8IgE8mfNkDmCYVPJfInib%2Fp8Bc1z6mnKQ4jaDo9eAJKIEPy9huh9JNuR6eleqJXpExa4dWodks3m2iwZzOJwtcSleoFxZpYEh0mGGbDRSn9kjddrjy1gScTffdmbHAbnRi%2BX6%2B6Mr05HFjypQ%2F9EFznPxp91%2FydSN3n1ZCCpluZ2bpaOW8f%2FY8GVNxvk1wN%2BEIIJcpMRh0Too5Zm69kzQ4pET4ZS2xlj0RDNoACAjqWwZl%2BLcuHUk74eq6jxkVYnw6swOIw8b9Wo4GaG9%2FkIS0wagNTnknr1XYgMok4yxM3ubAfjaoFHojA%2BhraGcJsob9G5tFngkwt5oaelTSB1zHICEQpPL7Rm%2B2fyhjEhHR&nvMid=82376023153&catId=50004654', '가격': 20400, '리뷰': 958, '구매건수': 814, '찜하기': 318, '스마트스토어': 1, '쇼핑몰': '동인축산', '배송비': 4000, '용도': '육회용', '부위': '', '중량': '300~600g', '등급': ''}, {'상품명': '당일도축 대구뭉티기 육사시미 한우 육회 생고기 뭉텅이 뭉태기', '링크': 'https://cr.shopping.naver.com/adcr.nhn?x=SL0UukwOv8IoKc4wMEtH7P%2F%2F%2Fw%3D%3DsCmmh%2FohxdV8W2n0VY5hVAT%2FcD4gQegxw%2BRuM8%2BYLpaDVgDNrJ2WlzBl62rd8y%2BCyWG3EPs3LPmVXQTq1qfeMK0bAoeRkvpJaJBMwPydFbM8QhkkHXK4%2FmSRy5icYE%2F277LSZbLsKZXazFynOmcCvU5sB%2BwY1sFit48IeggwaG74uc3j7S9LuOzyZRv1Dp7%2F6MBbAUTLhEczrfo6o%2BFCYJ9koDZhZTyE2PqJzLGA4wO7QwD0JzeLT91h99hl%2Bpw9VAwRcBgpPbSXOkyXZN%2FVQy4JFc0Uf%2BSGT%2BYme1K%2F%2BeSkQhkkHXK4%2FmSRy5icYE%2F27BW36r4QZshREfg%2B3vq7RNsawgbWLNzv3SuOcvAynApLDuilHni6pzCkCUmo5ZeHWKIEPy9huh9JNuR6eleqJXkFO7DN8tHEtdtvwLLk%2BG%2FJcSleoFxZpYEh0mGGbDRSnmmGgEUBTp2GtSskKqMhhNgJcizpsGbapzBWgOCwwzrI%2FZGuCV3RhaocMdMA5spDTk0AwL%2F9btFbKXSG13TZlGYHogWsDEMaRfkGlnoD9OG8oBADA%2BrQTD50UZPWSs%2FViIGoMor6uZBiC9jcxa9uoaIOuAKV6RXG1Is03XJLviBcRhyhTJNp%2F1XbkDxwKyyyB7zUD3GrZQ6g1%2BCN%2FwaG3PSQOu3J9yMnRRZjh32bUQCBoaKZHilHbuauHUigNM5KA&nvMid=84204919892&catId=50004654', '가격': 11900, '리뷰': 27, '구매건수': 52, '찜하기': 26, '스마트스토어': 1, '쇼핑몰': '전라도청년', '배송비': 3000, '용도': '육회용', '부위': '우둔', '중량': '200g', '등급': ''}, {'상품명': '육사시미 소스 뭉티기 우둔살 한우 대구', '링크': 'https://cr.shopping.naver.com/adcr.nhn?x=rK2O7P%2F3CngLbAC2OUoaZf%2F%2F%2Fw%3D%3DsEIDbN6TUTl%2FP3WHPWEMCl0O1zUjwhEIlfcJk2sGTcRwIqpOW2PnYnvL%2BIpV9lPzXhfkkVjGbyphwvg7O4v5LfR4pza8ebIOIXPrPsGGS95ek6v2w9jBqMGR4TTsgYaQncqdrd9YTvgXq%2Fwn4Tcr7zHi175YNzPC9gNPY4s4oGedxpLT8N3d72PyDWPd7zruyzdFWVghLHoj82YodFRJNzea0O2TX7GIDZW3de8vjU8xwE5vVdrGxizJveDKem%2BuOQDA58rVUfOAvjcjaGjORUt4an%2FzTqhVRN5HiEzJvDPKk6v2w9jBqMGR4TTsgYaQnlII%2ByYYqWVu3SSXxcjEJdFrqQW%2BHCbgwRZWNPxJQ2jS1TJAceiLakv5PMMlEcnBXAbWnbEXzrP9nTOtX6d%2FrCCzlpvSLARNugIfVrGkxGN3V02AovSJnOHNw9BheBVja5f68WHR8bmOCG4dlCNv4d9L9A8ECt6ciWYlULolOzKfiTPK3OZltbDhJd%2FYmcDTn8roUw5EtTACSd%2Bktzh%2B9zwxXLIha8pCREJ9HHCRjv1HFvE2CdWKEnL551abFfExww6%2Fbk591SgOuuGW6736HG2xh3VuPe8C35zdupzfyWiWtzQBwXKTdmlwLOMB97r61xyAhEKTy%2B0Zvtn8oYxIR0Q%3D%3D&nvMid=83066649760&catId=50004654', '가격': 20000, '리뷰': 3, '구매건수': 2, '찜하기': 9, '스마트스토어': 1, '쇼핑몰': '율이네식탁', '배송비': 4000, '용도': '육회용', '부위': '우둔', '중량': '250,600g', '등급': ''}, {'상품명': '당일도축 대구뭉티기 육사시미 한우육회 소고기 육회 생고기 250g 600g', '링크': 'https://cr.shopping.naver.com/adcr.nhn?x=jsATFTtb2LiTLnDq0o4VAP%2F%2F%2Fw%3D%3DsZxtocMINMw33OA2B%2Fic5rnikLRVK3yUAPs1HwpQF%2BhHVgDNrJ2WlzBl62rd8y%2BCyJG2qTfc7qs5cDvnfy54lm0bAoeRkvpJaJBMwPydFbM8QhkkHXK4%2FmSRy5icYE%2F277LSZbLsKZXazFynOmcCvU5sB%2BwY1sFit48IeggwaG74uc3j7S9LuOzyZRv1Dp7%2F6MBbAUTLhEczrfo6o%2BFCYJ9koDZhZTyE2PqJzLGA4wO70q51pJnspZ5aDVsuHLeFgjnJATmxJYNLNFhtIBRulTYJFc0Uf%2BSGT%2BYme1K%2F%2BeSkQhkkHXK4%2FmSRy5icYE%2F27%2FhDyiXZ86Jo%2BZEQ64BV62bSgZiYE%2Fb4r%2BFcMwlomjVP2VxPkPNytk3gD%2BIpQ57wWKIEPy9huh9JNuR6eleqJXoEp%2FbiTcBvSuJm44AzDncJcSleoFxZpYEh0mGGbDRSnmmGgEUBTp2GtSskKqMhhNgJcizpsGbapzBWgOCwwzrIZVjaHgaIkby9kBjDqD6jvsFCLIxp%2BZRbLyjcV2m2TxMEXvUnO%2FkhvNu3mfYcx4Q9b0XFrlEWydkSPnkdb%2BotpJaIWibq0UHF7ZDUp87gD%2B92dRUSSHdI95PA5EoApmTvVbaBkL5q2U304D1P0QvzXvjtb6F6tfaVxq2DsNwf9ONPgtkXgrfk8A60UXvuPShkDfkLIyuldBS3f8m8e6nLmzUhNzs2VE%2B%2Bisqs3JAEppg%3D%3D&nvMid=83307628360&catId=50004654', '가격': 16900, '리뷰': 238, '구매건수': 575, '찜하기': 306, '스마트스토어': 1, '쇼핑몰': '시장마트', '배송비': 4000, '용도': '육회용', '부위': '우둔', '중량': '300g', '등급': ''}, {'상품명': '한우 암소 투플러스 우둔살 보섭살 육사시미 육회 뭉티기 한우생고기 1++', '링크': 'https://cr.shopping.naver.com/adcr.nhn?x=bYYpWQNiTuTImb3iB3LxIv%2F%2F%2Fw%3D%3DsI7k%2F7G6zlQTt%2FJ0lFVIDv3Sdek62Ky3EcuEv0Xyk6pTVgDNrJ2WlzBl62rd8y%2BCyndumsg%2FA%2FPeuoI03t7XbokbAoeRkvpJaJBMwPydFbM8QhkkHXK4%2FmSRy5icYE%2F277LSZbLsKZXazFynOmcCvU5sB%2BwY1sFit48IeggwaG74uc3j7S9LuOzyZRv1Dp7%2F6MBbAUTLhEczrfo6o%2BFCYJ9koDZhZTyE2PqJzLGA4wO6PC6vF01KCiqTOpzBjKaKaxdi3idWAxqeaBtNCLuSqZYJFc0Uf%2BSGT%2BYme1K%2F%2BeSkQhkkHXK4%2FmSRy5icYE%2F27%2FhDyiXZ86Jo%2BZEQ64BV62QxxxbzSEOY5sOZGftysQz0lJNEfxiZVsPB4XIC8rC7mKIEPy9huh9JNuR6eleqJXkJfWaEyL1ZfUwrhWTBelwy7cL4oGhdXvjOjRZlBE6rsQ9hI2EncpuzZcZm45MTGLTEGKawbjhYN6UZqgl1aNHn99p5DfyJodySpV%2Fa9PZaeuMoAfAmQKHur9y3kG4a6rdgKIvijjVNrE5M0LMN27SqCSZE3%2FxIBXWQHuLXEyZbNIUpIbAQHy7MZg35kGMRIMuS4nzLIj%2BNe9KTroKRWtReQCU4rA9qEITJh30T6VqaOY38hUJeB9GDvEoSr1hrYUTvntux5M1Z9oqFJsfjZuFko%2FfmqwOY6EUaTxQP1FZSUgqgOvq6z5EpEI5N2xav1Mg%3D%3D&nvMid=82716143302&catId=50004654', '가격': 18000, '리뷰': 854, '구매건수': 1085, '찜하기': 412, '스마트스토어': 1, '쇼핑몰': '소문난정육점', '배송비': 3000, '용도': '육회용, 불고기용, 장조림용', '부위': '우둔', '중량': '300g', '등급': ''}]\n"
     ]
    }
   ],
   "source": []
  },
  {
   "cell_type": "code",
   "execution_count": 15,
   "metadata": {},
   "outputs": [
    {
     "name": "stdout",
     "output_type": "stream",
     "text": [
      "                                         상품명     가격    리뷰  구매건수   찜하기  스마트스토어  \\\n",
      "0              한우 대구뭉티기 육사시미 소고기 육회 생고기 300g  21900  2842  2519  1119       1   \n",
      "1                 [당일도축] 대구뭉티기 육사시미 한우육회 뭉텅이  14900   152   296   297       1   \n",
      "2       당일도축 대구뭉티기 한우육회 소고기 육회 생고기 육사시미 250g  21800  7695  4368  1519       1   \n",
      "3        [백십일] 무료배송 한우 뭉티기 당일도축 대구 육사시미 200g  24900   613  1206   805       1   \n",
      "4                  당일도축 대구뭉티기 한우 생고기 육사시미 육회  20800   296   618   207       1   \n",
      "5        당일도축분 대구뭉티기 한우육사시미300g 생고기 육회 양념장제공  20400   958   814   318       1   \n",
      "6          당일도축 대구뭉티기 육사시미 한우 육회 생고기 뭉텅이 뭉태기  11900    27    52    26       1   \n",
      "7                      육사시미 소스 뭉티기 우둔살 한우 대구  20000     3     2     9       1   \n",
      "8  당일도축 대구뭉티기 육사시미 한우육회 소고기 육회 생고기 250g 600g  16900   238   575   306       1   \n",
      "9   한우 암소 투플러스 우둔살 보섭살 육사시미 육회 뭉티기 한우생고기 1++  18000   854  1085   412       1   \n",
      "\n",
      "          쇼핑몰   배송비               용도      부위        중량 등급  \\\n",
      "0     아이러브농수산  4000              육회용      우둔      300g      \n",
      "1      성수동클래식  3500              육회용  우둔, 기타      200g      \n",
      "2       솔직한농부  4000              육회용      우둔      250g      \n",
      "3         백십일     0              육회용      우둔      200g      \n",
      "4  고기에 진심을 담다  4000              육회용      우둔      250g      \n",
      "5        동인축산  4000              육회용          300~600g      \n",
      "6       전라도청년  3000              육회용      우둔      200g      \n",
      "7       율이네식탁  4000              육회용      우둔  250,600g      \n",
      "8        시장마트  4000              육회용      우둔      300g      \n",
      "9      소문난정육점  3000  육회용, 불고기용, 장조림용      우둔      300g      \n",
      "\n",
      "                                                  링크  \n",
      "0  https://cr.shopping.naver.com/adcr.nhn?x=CQXVv...  \n",
      "1  https://cr.shopping.naver.com/adcr.nhn?x=cZph2...  \n",
      "2  https://cr.shopping.naver.com/adcr.nhn?x=5xkkz...  \n",
      "3  https://cr.shopping.naver.com/adcr.nhn?x=YaaRC...  \n",
      "4  https://cr.shopping.naver.com/adcr.nhn?x=IIZhY...  \n",
      "5  https://cr.shopping.naver.com/adcr.nhn?x=WU%2B...  \n",
      "6  https://cr.shopping.naver.com/adcr.nhn?x=SL0Uu...  \n",
      "7  https://cr.shopping.naver.com/adcr.nhn?x=rK2O7...  \n",
      "8  https://cr.shopping.naver.com/adcr.nhn?x=jsATF...  \n",
      "9  https://cr.shopping.naver.com/adcr.nhn?x=bYYpW...  \n"
     ]
    }
   ],
   "source": []
  },
  {
   "cell_type": "code",
   "execution_count": 16,
   "metadata": {},
   "outputs": [
    {
     "name": "stdout",
     "output_type": "stream",
     "text": [
      "                                          상품명     가격    리뷰  구매건수   찜하기  \\\n",
      "1               한우 대구뭉티기 육사시미 소고기 육회 생고기 300g  21900  2842  2519  1119   \n",
      "2                  [당일도축] 대구뭉티기 육사시미 한우육회 뭉텅이  14900   152   296   297   \n",
      "3        당일도축 대구뭉티기 한우육회 소고기 육회 생고기 육사시미 250g  21800  7695  4368  1519   \n",
      "4         [백십일] 무료배송 한우 뭉티기 당일도축 대구 육사시미 200g  24900   613  1206   805   \n",
      "5                   당일도축 대구뭉티기 한우 생고기 육사시미 육회  20800   296   618   207   \n",
      "6         당일도축분 대구뭉티기 한우육사시미300g 생고기 육회 양념장제공  20400   958   814   318   \n",
      "7           당일도축 대구뭉티기 육사시미 한우 육회 생고기 뭉텅이 뭉태기  11900    27    52    26   \n",
      "8                       육사시미 소스 뭉티기 우둔살 한우 대구  20000     3     2     9   \n",
      "9   당일도축 대구뭉티기 육사시미 한우육회 소고기 육회 생고기 250g 600g  16900   238   575   306   \n",
      "10   한우 암소 투플러스 우둔살 보섭살 육사시미 육회 뭉티기 한우생고기 1++  18000   854  1085   412   \n",
      "\n",
      "    스마트스토어         쇼핑몰   배송비               용도      부위        중량 등급  \\\n",
      "1        1     아이러브농수산  4000              육회용      우둔      300g      \n",
      "2        1      성수동클래식  3500              육회용  우둔, 기타      200g      \n",
      "3        1       솔직한농부  4000              육회용      우둔      250g      \n",
      "4        1         백십일     0              육회용      우둔      200g      \n",
      "5        1  고기에 진심을 담다  4000              육회용      우둔      250g      \n",
      "6        1        동인축산  4000              육회용          300~600g      \n",
      "7        1       전라도청년  3000              육회용      우둔      200g      \n",
      "8        1       율이네식탁  4000              육회용      우둔  250,600g      \n",
      "9        1        시장마트  4000              육회용      우둔      300g      \n",
      "10       1      소문난정육점  3000  육회용, 불고기용, 장조림용      우둔      300g      \n",
      "\n",
      "                                                   링크  \n",
      "1   https://cr.shopping.naver.com/adcr.nhn?x=CQXVv...  \n",
      "2   https://cr.shopping.naver.com/adcr.nhn?x=cZph2...  \n",
      "3   https://cr.shopping.naver.com/adcr.nhn?x=5xkkz...  \n",
      "4   https://cr.shopping.naver.com/adcr.nhn?x=YaaRC...  \n",
      "5   https://cr.shopping.naver.com/adcr.nhn?x=IIZhY...  \n",
      "6   https://cr.shopping.naver.com/adcr.nhn?x=WU%2B...  \n",
      "7   https://cr.shopping.naver.com/adcr.nhn?x=SL0Uu...  \n",
      "8   https://cr.shopping.naver.com/adcr.nhn?x=rK2O7...  \n",
      "9   https://cr.shopping.naver.com/adcr.nhn?x=jsATF...  \n",
      "10  https://cr.shopping.naver.com/adcr.nhn?x=bYYpW...  \n"
     ]
    }
   ],
   "source": [
    "df = pd.DataFrame(dic_list,columns=['상품명','가격','리뷰','구매건수','찜하기','스마트스토어','쇼핑몰','배송비','용도','부위','중량','등급','링크'])\n",
    "df.index +=1\n",
    "df.drop_duplicates()\n",
    "df.to_csv('./뭉티기test.csv',encoding='utf-8-sig')      "
   ]
  },
  {
   "cell_type": "code",
   "execution_count": 17,
   "metadata": {},
   "outputs": [],
   "source": [
    "                                                                             # csv 파일로 저장"
   ]
  }
 ],
 "metadata": {
  "kernelspec": {
   "display_name": "Python 3.10.2 64-bit",
   "language": "python",
   "name": "python3"
  },
  "language_info": {
   "codemirror_mode": {
    "name": "ipython",
    "version": 3
   },
   "file_extension": ".py",
   "mimetype": "text/x-python",
   "name": "python",
   "nbconvert_exporter": "python",
   "pygments_lexer": "ipython3",
   "version": "3.10.2"
  },
  "orig_nbformat": 4,
  "vscode": {
   "interpreter": {
    "hash": "9e000c0c807c08f87b67fc6d14b7494c203ab463a6abf9db2311fb6e02a8ff8c"
   }
  }
 },
 "nbformat": 4,
 "nbformat_minor": 2
}
